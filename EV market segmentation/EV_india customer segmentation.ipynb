{
 "cells": [
  {
   "cell_type": "code",
   "execution_count": 1,
   "metadata": {
    "colab": {
     "base_uri": "https://localhost:8080/"
    },
    "id": "qxfpFId30bLv",
    "outputId": "f0bad28d-c892-41ff-bca7-d3dbf446578a"
   },
   "outputs": [
    {
     "name": "stdout",
     "output_type": "stream",
     "text": [
      "Requirement already satisfied: kaleido in c:\\users\\nandaraj m\\anaconda3\\lib\\site-packages (0.2.1)\n"
     ]
    }
   ],
   "source": [
    "!pip install -U kaleido"
   ]
  },
  {
   "cell_type": "code",
   "execution_count": 2,
   "metadata": {
    "id": "ksUp4Dv1MF6L"
   },
   "outputs": [],
   "source": [
    "import numpy as np \n",
    "import pandas as pd\n",
    "import seaborn as sns \n",
    "import matplotlib.pyplot as plt\n",
    "import plotly.express as px\n",
    "import kaleido"
   ]
  },
  {
   "cell_type": "markdown",
   "metadata": {
    "id": "GwYPvrj2RxNZ"
   },
   "source": [
    "socio-demographic data, such as age, gender, income, based on which we could know which people to target."
   ]
  },
  {
   "cell_type": "code",
   "execution_count": 3,
   "metadata": {
    "id": "4HTsjT3-PooD"
   },
   "outputs": [],
   "source": [
    "# This data contains the details about consumers who purchased an EV\n",
    "data = pd.read_csv(\"customer_dataset.csv\")"
   ]
  },
  {
   "cell_type": "code",
   "execution_count": 4,
   "metadata": {
    "colab": {
     "base_uri": "https://localhost:8080/"
    },
    "id": "dhFG6zEzP3Vj",
    "outputId": "a674b61d-4a18-4e2a-96a7-5b673a6d5ced"
   },
   "outputs": [
    {
     "data": {
      "text/plain": [
       "<bound method NDFrame.describe of     Age Profession Marrital Status      Education  No of Dependents  \\\n",
       "0    27   Salaried          Single  Post Graduate                 0   \n",
       "1    35   Salaried         Married  Post Graduate                 2   \n",
       "2    45   Business         Married       Graduate                 4   \n",
       "3    41   Business         Married  Post Graduate                 3   \n",
       "4    31   Salaried         Married  Post Graduate                 2   \n",
       "..  ...        ...             ...            ...               ...   \n",
       "94   27   Business          Single       Graduate                 0   \n",
       "95   50   Salaried         Married  Post Graduate                 3   \n",
       "96   51   Business         Married       Graduate                 2   \n",
       "97   51   Salaried         Married  Post Graduate                 2   \n",
       "98   51   Salaried         Married  Post Graduate                 2   \n",
       "\n",
       "   Personal loan  Total Salary    Price  \n",
       "0            Yes        800000   800000  \n",
       "1            Yes       2000000  1000000  \n",
       "2            Yes       1800000  1200000  \n",
       "3             No       2200000  1200000  \n",
       "4            Yes       2600000  1600000  \n",
       "..           ...           ...      ...  \n",
       "94            No       2400000  1600000  \n",
       "95            No       5100000  1600000  \n",
       "96           Yes       2200000  1100000  \n",
       "97            No       4000000  1500000  \n",
       "98           Yes       2200000  1100000  \n",
       "\n",
       "[99 rows x 8 columns]>"
      ]
     },
     "execution_count": 4,
     "metadata": {},
     "output_type": "execute_result"
    }
   ],
   "source": [
    "data.describe\n",
    "#performance of petrol and diesel vehicles vs EVs can be regarded as a metric considered before "
   ]
  },
  {
   "cell_type": "code",
   "execution_count": 5,
   "metadata": {
    "colab": {
     "base_uri": "https://localhost:8080/"
    },
    "id": "lIteykwhzgIY",
    "outputId": "7f4c6271-5153-4c81-e7d4-958e3b4b35e3"
   },
   "outputs": [
    {
     "name": "stdout",
     "output_type": "stream",
     "text": [
      "Age                 0\n",
      "Profession          0\n",
      "Marrital Status     0\n",
      "Education           0\n",
      "No of Dependents    0\n",
      "Personal loan       0\n",
      "Total Salary        0\n",
      "Price               0\n",
      "dtype: int64\n"
     ]
    }
   ],
   "source": [
    "print(pd.isnull(data).sum())"
   ]
  },
  {
   "cell_type": "code",
   "execution_count": 6,
   "metadata": {
    "colab": {
     "base_uri": "https://localhost:8080/",
     "height": 206
    },
    "id": "p2wBnOBOuWDU",
    "outputId": "4b9ed9e3-bfea-4abc-a3aa-428ccd907f8b"
   },
   "outputs": [
    {
     "data": {
      "text/html": [
       "<div>\n",
       "<style scoped>\n",
       "    .dataframe tbody tr th:only-of-type {\n",
       "        vertical-align: middle;\n",
       "    }\n",
       "\n",
       "    .dataframe tbody tr th {\n",
       "        vertical-align: top;\n",
       "    }\n",
       "\n",
       "    .dataframe thead th {\n",
       "        text-align: right;\n",
       "    }\n",
       "</style>\n",
       "<table border=\"1\" class=\"dataframe\">\n",
       "  <thead>\n",
       "    <tr style=\"text-align: right;\">\n",
       "      <th></th>\n",
       "      <th>Age</th>\n",
       "      <th>Profession</th>\n",
       "      <th>Marrital Status</th>\n",
       "      <th>Education</th>\n",
       "      <th>No of Dependents</th>\n",
       "      <th>Car_Loan</th>\n",
       "      <th>Total Salary</th>\n",
       "      <th>EV_Price</th>\n",
       "    </tr>\n",
       "  </thead>\n",
       "  <tbody>\n",
       "    <tr>\n",
       "      <th>0</th>\n",
       "      <td>27</td>\n",
       "      <td>Salaried</td>\n",
       "      <td>Single</td>\n",
       "      <td>Post Graduate</td>\n",
       "      <td>0</td>\n",
       "      <td>Yes</td>\n",
       "      <td>800000</td>\n",
       "      <td>800000</td>\n",
       "    </tr>\n",
       "    <tr>\n",
       "      <th>1</th>\n",
       "      <td>35</td>\n",
       "      <td>Salaried</td>\n",
       "      <td>Married</td>\n",
       "      <td>Post Graduate</td>\n",
       "      <td>2</td>\n",
       "      <td>Yes</td>\n",
       "      <td>2000000</td>\n",
       "      <td>1000000</td>\n",
       "    </tr>\n",
       "    <tr>\n",
       "      <th>2</th>\n",
       "      <td>45</td>\n",
       "      <td>Business</td>\n",
       "      <td>Married</td>\n",
       "      <td>Graduate</td>\n",
       "      <td>4</td>\n",
       "      <td>Yes</td>\n",
       "      <td>1800000</td>\n",
       "      <td>1200000</td>\n",
       "    </tr>\n",
       "    <tr>\n",
       "      <th>3</th>\n",
       "      <td>41</td>\n",
       "      <td>Business</td>\n",
       "      <td>Married</td>\n",
       "      <td>Post Graduate</td>\n",
       "      <td>3</td>\n",
       "      <td>No</td>\n",
       "      <td>2200000</td>\n",
       "      <td>1200000</td>\n",
       "    </tr>\n",
       "    <tr>\n",
       "      <th>4</th>\n",
       "      <td>31</td>\n",
       "      <td>Salaried</td>\n",
       "      <td>Married</td>\n",
       "      <td>Post Graduate</td>\n",
       "      <td>2</td>\n",
       "      <td>Yes</td>\n",
       "      <td>2600000</td>\n",
       "      <td>1600000</td>\n",
       "    </tr>\n",
       "  </tbody>\n",
       "</table>\n",
       "</div>"
      ],
      "text/plain": [
       "   Age Profession Marrital Status      Education  No of Dependents Car_Loan  \\\n",
       "0   27   Salaried          Single  Post Graduate                 0      Yes   \n",
       "1   35   Salaried         Married  Post Graduate                 2      Yes   \n",
       "2   45   Business         Married       Graduate                 4      Yes   \n",
       "3   41   Business         Married  Post Graduate                 3       No   \n",
       "4   31   Salaried         Married  Post Graduate                 2      Yes   \n",
       "\n",
       "   Total Salary  EV_Price  \n",
       "0        800000    800000  \n",
       "1       2000000   1000000  \n",
       "2       1800000   1200000  \n",
       "3       2200000   1200000  \n",
       "4       2600000   1600000  "
      ]
     },
     "execution_count": 6,
     "metadata": {},
     "output_type": "execute_result"
    }
   ],
   "source": [
    "data.rename(columns={'Personal loan':'Car_Loan'},inplace=True)\n",
    "data.rename(columns={'Price':'EV_Price'},inplace=True)\n",
    "data.head()\n"
   ]
  },
  {
   "cell_type": "code",
   "execution_count": 7,
   "metadata": {
    "colab": {
     "base_uri": "https://localhost:8080/",
     "height": 279
    },
    "id": "mAZavdql0A7R",
    "outputId": "b7e58757-951b-40ad-fb5a-a45dddd24ca3"
   },
   "outputs": [
    {
     "data": {
      "image/png": "[encoded data removed]",
      "text/plain": [
       "<Figure size 432x288 with 1 Axes>"
      ]
     },
     "metadata": {
      "needs_background": "light"
     },
     "output_type": "display_data"
    }
   ],
   "source": [
    "# Plotting the Car loan status with respect to Marrital Status\n",
    "sns.countplot(x ='Marrital Status', hue = 'Car_Loan',  data = data, palette = 'Set2')\n",
    "plt.show()"
   ]
  },
  {
   "cell_type": "code",
   "execution_count": 8,
   "metadata": {
    "colab": {
     "base_uri": "https://localhost:8080/"
    },
    "id": "ZJrPRM468W0O",
    "outputId": "6082d272-37be-40c7-9c1f-f4f831a507c9"
   },
   "outputs": [
    {
     "data": {
      "text/plain": [
       "84.84848484848484"
      ]
     },
     "execution_count": 8,
     "metadata": {},
     "output_type": "execute_result"
    }
   ],
   "source": [
    "(data['Marrital Status'].value_counts()['Married'])/((data['Marrital Status'].value_counts()['Married'])+(data['Marrital Status'].value_counts()['Single']))*100"
   ]
  },
  {
   "cell_type": "code",
   "execution_count": 9,
   "metadata": {
    "colab": {
     "base_uri": "https://localhost:8080/",
     "height": 248
    },
    "id": "5O3h3aK62uk3",
    "outputId": "9a8b0378-296c-4991-abe2-769b1c306ab8"
   },
   "outputs": [
    {
     "data": {
      "image/png": "[encoded data removed]",
      "text/plain": [
       "<Figure size 432x288 with 1 Axes>"
      ]
     },
     "metadata": {},
     "output_type": "display_data"
    }
   ],
   "source": [
    "#Getting labels and data\n",
    "labels = ['Car Loan Required','Car Loan not required']\n",
    "Loan_status = [data.query('Car_Loan == \"Yes\"').Car_Loan.count(),data.query('Car_Loan == \"No\"').Car_Loan.count()]\n",
    "\n",
    "# declaring exploding pie\n",
    "explode = [0.1, 0]\n",
    "# define Seaborn color palette to use\n",
    "palette_color = sns.color_palette('pastel')\n",
    "  \n",
    "# plotting data on chart\n",
    "plt.pie(Loan_status, labels=labels, colors=palette_color, shadow = \"True\",\n",
    "        explode=explode, autopct='%1.1f%%')\n",
    "  \n",
    "# displaying chart\n",
    "plt.show()"
   ]
  },
  {
   "cell_type": "code",
   "execution_count": 10,
   "metadata": {
    "colab": {
     "base_uri": "https://localhost:8080/",
     "height": 351
    },
    "id": "4XAfWgK98BeL",
    "outputId": "4ebbfe29-921c-4abf-a4dc-a4f08885dce2"
   },
   "outputs": [
    {
     "data": {
      "image/png": "[encoded data removed]",
      "text/plain": [
       "<Figure size 1080x360 with 4 Axes>"
      ]
     },
     "metadata": {
      "needs_background": "light"
     },
     "output_type": "display_data"
    }
   ],
   "source": [
    "# Plotting the fequency of each entry for consumer features - Age, No. 0f Dependents, Total Salary, EV_Price\n",
    "plt.figure(1, figsize=(15,5))\n",
    "n=0\n",
    "\n",
    "for x in ['Age', 'No of Dependents' ,'Total Salary'  ,'EV_Price']:\n",
    "  n += 1\n",
    "  plt.subplot(1,4,n)\n",
    "  plt.subplots_adjust(hspace=0.5, wspace=0.5)\n",
    "  sns.histplot(data[x], bins= 25)\n",
    "  plt.title(f'{x}')\n",
    "plt.show()"
   ]
  },
  {
   "cell_type": "code",
   "execution_count": 11,
   "metadata": {
    "colab": {
     "base_uri": "https://localhost:8080/"
    },
    "id": "EIaCd1v_aQEl",
    "outputId": "633d4256-4de3-4eb2-c719-8b000437ce8c"
   },
   "outputs": [
    {
     "name": "stdout",
     "output_type": "stream",
     "text": [
      "Collecting kmodes\n",
      "  Downloading kmodes-0.12.2-py2.py3-none-any.whl (20 kB)\n",
      "Requirement already satisfied: scikit-learn>=0.22.0 in c:\\users\\nandaraj m\\anaconda3\\lib\\site-packages (from kmodes) (0.24.2)\n",
      "Requirement already satisfied: numpy>=1.10.4 in c:\\users\\nandaraj m\\anaconda3\\lib\\site-packages (from kmodes) (1.20.3)\n",
      "Requirement already satisfied: scipy>=0.13.3 in c:\\users\\nandaraj m\\anaconda3\\lib\\site-packages (from kmodes) (1.7.1)\n",
      "Requirement already satisfied: joblib>=0.11 in c:\\users\\nandaraj m\\anaconda3\\lib\\site-packages (from kmodes) (1.1.0)\n",
      "Requirement already satisfied: threadpoolctl>=2.0.0 in c:\\users\\nandaraj m\\anaconda3\\lib\\site-packages (from scikit-learn>=0.22.0->kmodes) (2.2.0)\n",
      "Installing collected packages: kmodes\n",
      "Successfully installed kmodes-0.12.2\n"
     ]
    }
   ],
   "source": [
    "!pip install kmodes\n",
    "from kmodes.kprototypes import KPrototypes\n",
    "\n",
    "# Kmodes is similar to K means clustering when computing distance for continuous data using mean but for categorical data it uses the mode\n",
    "# Frequency based dissimilarity measure\n",
    "# Hence it is more preferrable for clustering multiple datatypes "
   ]
  },
  {
   "cell_type": "code",
   "execution_count": 12,
   "metadata": {
    "colab": {
     "base_uri": "https://localhost:8080/",
     "height": 206
    },
    "id": "ecD5RTfXaRn3",
    "outputId": "685ab2bb-8c71-4cdf-e0b7-9fc6a08c40cf"
   },
   "outputs": [
    {
     "data": {
      "text/html": [
       "<div>\n",
       "<style scoped>\n",
       "    .dataframe tbody tr th:only-of-type {\n",
       "        vertical-align: middle;\n",
       "    }\n",
       "\n",
       "    .dataframe tbody tr th {\n",
       "        vertical-align: top;\n",
       "    }\n",
       "\n",
       "    .dataframe thead th {\n",
       "        text-align: right;\n",
       "    }\n",
       "</style>\n",
       "<table border=\"1\" class=\"dataframe\">\n",
       "  <thead>\n",
       "    <tr style=\"text-align: right;\">\n",
       "      <th></th>\n",
       "      <th>Age</th>\n",
       "      <th>Profession</th>\n",
       "      <th>Marrital Status</th>\n",
       "      <th>Education</th>\n",
       "      <th>No of Dependents</th>\n",
       "      <th>Car_Loan</th>\n",
       "      <th>Total Salary</th>\n",
       "      <th>EV_Price</th>\n",
       "    </tr>\n",
       "  </thead>\n",
       "  <tbody>\n",
       "    <tr>\n",
       "      <th>0</th>\n",
       "      <td>27</td>\n",
       "      <td>Salaried</td>\n",
       "      <td>Single</td>\n",
       "      <td>Post Graduate</td>\n",
       "      <td>0</td>\n",
       "      <td>Yes</td>\n",
       "      <td>800000</td>\n",
       "      <td>800000</td>\n",
       "    </tr>\n",
       "    <tr>\n",
       "      <th>1</th>\n",
       "      <td>35</td>\n",
       "      <td>Salaried</td>\n",
       "      <td>Married</td>\n",
       "      <td>Post Graduate</td>\n",
       "      <td>2</td>\n",
       "      <td>Yes</td>\n",
       "      <td>2000000</td>\n",
       "      <td>1000000</td>\n",
       "    </tr>\n",
       "    <tr>\n",
       "      <th>2</th>\n",
       "      <td>45</td>\n",
       "      <td>Business</td>\n",
       "      <td>Married</td>\n",
       "      <td>Graduate</td>\n",
       "      <td>4</td>\n",
       "      <td>Yes</td>\n",
       "      <td>1800000</td>\n",
       "      <td>1200000</td>\n",
       "    </tr>\n",
       "    <tr>\n",
       "      <th>3</th>\n",
       "      <td>41</td>\n",
       "      <td>Business</td>\n",
       "      <td>Married</td>\n",
       "      <td>Post Graduate</td>\n",
       "      <td>3</td>\n",
       "      <td>No</td>\n",
       "      <td>2200000</td>\n",
       "      <td>1200000</td>\n",
       "    </tr>\n",
       "    <tr>\n",
       "      <th>4</th>\n",
       "      <td>31</td>\n",
       "      <td>Salaried</td>\n",
       "      <td>Married</td>\n",
       "      <td>Post Graduate</td>\n",
       "      <td>2</td>\n",
       "      <td>Yes</td>\n",
       "      <td>2600000</td>\n",
       "      <td>1600000</td>\n",
       "    </tr>\n",
       "  </tbody>\n",
       "</table>\n",
       "</div>"
      ],
      "text/plain": [
       "   Age Profession Marrital Status      Education  No of Dependents Car_Loan  \\\n",
       "0   27   Salaried          Single  Post Graduate                 0      Yes   \n",
       "1   35   Salaried         Married  Post Graduate                 2      Yes   \n",
       "2   45   Business         Married       Graduate                 4      Yes   \n",
       "3   41   Business         Married  Post Graduate                 3       No   \n",
       "4   31   Salaried         Married  Post Graduate                 2      Yes   \n",
       "\n",
       "   Total Salary  EV_Price  \n",
       "0        800000    800000  \n",
       "1       2000000   1000000  \n",
       "2       1800000   1200000  \n",
       "3       2200000   1200000  \n",
       "4       2600000   1600000  "
      ]
     },
     "execution_count": 12,
     "metadata": {},
     "output_type": "execute_result"
    }
   ],
   "source": [
    "data.head()"
   ]
  },
  {
   "cell_type": "code",
   "execution_count": 13,
   "metadata": {
    "id": "hszGTuTYaRs4"
   },
   "outputs": [],
   "source": [
    "cluster_features = list(data.columns)\n",
    "cluster_data = data[cluster_features].values"
   ]
  },
  {
   "cell_type": "code",
   "execution_count": 14,
   "metadata": {
    "colab": {
     "base_uri": "https://localhost:8080/"
    },
    "id": "4zFWJch5qHDl",
    "outputId": "3aa1a65a-7cda-42d3-b8d1-8b90d5d412bc"
   },
   "outputs": [
    {
     "data": {
      "text/plain": [
       "array([27, 35, 45, 41, 31, 28, 31, 33, 34, 34, 35, 35, 29, 30, 31, 49, 26,\n",
       "       27, 29, 30, 37, 35, 36, 35, 35, 35, 35, 36, 36, 36, 41, 41, 41, 43,\n",
       "       42, 42, 29, 30, 30, 31, 31, 32, 32, 34, 34, 34, 36, 36, 36, 36, 49,\n",
       "       49, 44, 44, 41, 41, 41, 27, 27, 28, 28, 30, 31, 31, 31, 39, 39, 39,\n",
       "       39, 37, 37, 37, 37, 35, 36, 36, 36, 36, 44, 45, 46, 44, 43, 42, 42,\n",
       "       42, 29, 33, 34, 34, 35, 36, 37, 27, 27, 50, 51, 51, 51],\n",
       "      dtype=object)"
      ]
     },
     "execution_count": 14,
     "metadata": {},
     "output_type": "execute_result"
    }
   ],
   "source": [
    "cluster_data[:, 0]"
   ]
  },
  {
   "cell_type": "code",
   "execution_count": 15,
   "metadata": {
    "id": "-dackRr5pwL4"
   },
   "outputs": [],
   "source": [
    "cluster_data[:, 0] = cluster_data[:, 0].astype(float)\n",
    "cluster_data[:, 4] = cluster_data[:, 4].astype(float)\n",
    "cluster_data[:, 6] = cluster_data[:, 6].astype(float)\n",
    "cluster_data[:, 7] = cluster_data[:, 7].astype(float)"
   ]
  },
  {
   "cell_type": "code",
   "execution_count": 16,
   "metadata": {
    "colab": {
     "base_uri": "https://localhost:8080/",
     "height": 293
    },
    "id": "WQBYOjHpaRqc",
    "outputId": "740dae20-5a4f-44bc-f2c0-0728496ca6e2"
   },
   "outputs": [
    {
     "data": {
      "text/plain": [
       "[<matplotlib.lines.Line2D at 0x14df6d2f820>]"
      ]
     },
     "execution_count": 16,
     "metadata": {},
     "output_type": "execute_result"
    },
    {
     "data": {
      "image/png": "[encoded data removed]",
      "text/plain": [
       "<Figure size 432x288 with 1 Axes>"
      ]
     },
     "metadata": {
      "needs_background": "light"
     },
     "output_type": "display_data"
    }
   ],
   "source": [
    "# Finding optimal number of clusters for KPrototypes\n",
    "\n",
    "cost = []\n",
    "for num_clusters in list(range(1,8)):\n",
    "    kproto = KPrototypes(n_clusters=num_clusters, init='Cao')\n",
    "    kproto.fit_predict(cluster_data, categorical=[1,2,3,5])\n",
    "    cost.append(kproto.cost_)\n",
    "\n",
    "plt.plot(cost)"
   ]
  },
  {
   "cell_type": "code",
   "execution_count": 17,
   "metadata": {
    "colab": {
     "base_uri": "https://localhost:8080/"
    },
    "id": "KK8FCBorso11",
    "outputId": "2d98fc86-1737-46e1-8b88-9b1d4bcc2baf"
   },
   "outputs": [
    {
     "data": {
      "text/plain": [
       "[126979657487180.34,\n",
       " 48631729380526.18,\n",
       " 25087753148183.234,\n",
       " 18491809410726.285,\n",
       " 14096809410701.455,\n",
       " 12066622581764.691,\n",
       " 10281297121343.807]"
      ]
     },
     "execution_count": 17,
     "metadata": {},
     "output_type": "execute_result"
    }
   ],
   "source": [
    "cost"
   ]
  },
  {
   "cell_type": "code",
   "execution_count": 18,
   "metadata": {
    "colab": {
     "base_uri": "https://localhost:8080/"
    },
    "id": "2YTWjXqfaRvP",
    "outputId": "ef72e58d-ee5f-467c-bc57-6f1f6f8d13f0"
   },
   "outputs": [
    {
     "name": "stdout",
     "output_type": "stream",
     "text": [
      "Initialization method and algorithm are deterministic. Setting n_init to 1.\n",
      "Init: initializing centroids\n",
      "Init: initializing clusters\n",
      "Starting iterations...\n",
      "Run: 1, iteration: 1/20, moves: 24, ncost: 56696304528454.45\n",
      "Run: 1, iteration: 2/20, moves: 16, ncost: 50057040964014.66\n",
      "Run: 1, iteration: 3/20, moves: 1, ncost: 50020391397205.32\n",
      "Run: 1, iteration: 4/20, moves: 0, ncost: 50020391397205.32\n",
      "Init: initializing centroids\n",
      "Init: initializing clusters\n",
      "Starting iterations...\n",
      "Run: 2, iteration: 1/20, moves: 11, ncost: 50528143911238.56\n",
      "Run: 2, iteration: 2/20, moves: 5, ncost: 48837287201079.53\n",
      "Run: 2, iteration: 3/20, moves: 1, ncost: 48777842651066.98\n",
      "Run: 2, iteration: 4/20, moves: 0, ncost: 48777842651066.98\n",
      "Init: initializing centroids\n",
      "Init: initializing clusters\n",
      "Starting iterations...\n",
      "Run: 3, iteration: 1/20, moves: 12, ncost: 49273117121484.86\n",
      "Run: 3, iteration: 2/20, moves: 4, ncost: 48631729380526.18\n",
      "Run: 3, iteration: 3/20, moves: 0, ncost: 48631729380526.18\n",
      "Init: initializing centroids\n",
      "Init: initializing clusters\n",
      "Starting iterations...\n",
      "Run: 4, iteration: 1/20, moves: 11, ncost: 48837287201079.53\n",
      "Run: 4, iteration: 2/20, moves: 1, ncost: 48777842651066.98\n",
      "Run: 4, iteration: 3/20, moves: 0, ncost: 48777842651066.98\n",
      "Init: initializing centroids\n",
      "Init: initializing clusters\n",
      "Starting iterations...\n",
      "Run: 5, iteration: 1/20, moves: 46, ncost: 50246373530811.08\n",
      "Run: 5, iteration: 2/20, moves: 2, ncost: 50057040964014.66\n",
      "Run: 5, iteration: 3/20, moves: 1, ncost: 50020391397205.32\n",
      "Run: 5, iteration: 4/20, moves: 0, ncost: 50020391397205.32\n",
      "Init: initializing centroids\n",
      "Init: initializing clusters\n",
      "Starting iterations...\n",
      "Run: 6, iteration: 1/20, moves: 4, ncost: 49650723166357.79\n",
      "Run: 6, iteration: 2/20, moves: 4, ncost: 48777842651066.98\n",
      "Run: 6, iteration: 3/20, moves: 0, ncost: 48777842651066.98\n",
      "Init: initializing centroids\n",
      "Init: initializing clusters\n",
      "Starting iterations...\n",
      "Run: 7, iteration: 1/20, moves: 20, ncost: 51010804795368.1\n",
      "Run: 7, iteration: 2/20, moves: 5, ncost: 50057040964014.66\n",
      "Run: 7, iteration: 3/20, moves: 1, ncost: 50020391397205.32\n",
      "Run: 7, iteration: 4/20, moves: 0, ncost: 50020391397205.32\n",
      "Init: initializing centroids\n",
      "Init: initializing clusters\n",
      "Starting iterations...\n",
      "Run: 8, iteration: 1/20, moves: 5, ncost: 49051024054045.22\n",
      "Run: 8, iteration: 2/20, moves: 3, ncost: 48631729380526.18\n",
      "Run: 8, iteration: 3/20, moves: 0, ncost: 48631729380526.18\n",
      "Init: initializing centroids\n",
      "Init: initializing clusters\n",
      "Starting iterations...\n",
      "Run: 9, iteration: 1/20, moves: 3, ncost: 49650723166357.79\n",
      "Run: 9, iteration: 2/20, moves: 4, ncost: 48777842651066.98\n",
      "Run: 9, iteration: 3/20, moves: 0, ncost: 48777842651066.98\n",
      "Init: initializing centroids\n",
      "Init: initializing clusters\n",
      "Starting iterations...\n",
      "Run: 10, iteration: 1/20, moves: 42, ncost: 49533138202856.73\n",
      "Run: 10, iteration: 2/20, moves: 4, ncost: 49051024054045.22\n",
      "Run: 10, iteration: 3/20, moves: 3, ncost: 48631729380526.18\n",
      "Run: 10, iteration: 4/20, moves: 0, ncost: 48631729380526.18\n",
      "Best run was number 3\n"
     ]
    }
   ],
   "source": [
    "# fitting data to clusters\n",
    "\n",
    "kproto = KPrototypes(n_clusters=2, verbose=2,max_iter=20)\n",
    "clusters = kproto.fit_predict(cluster_data, categorical=[1,2,3,5])"
   ]
  },
  {
   "cell_type": "code",
   "execution_count": 19,
   "metadata": {
    "id": "5mQHhx45Ris6"
   },
   "outputs": [],
   "source": [
    "# Appending the cluster data\n",
    "\n",
    "data['Cluster'] = clusters"
   ]
  },
  {
   "cell_type": "code",
   "execution_count": 20,
   "metadata": {
    "colab": {
     "base_uri": "https://localhost:8080/"
    },
    "id": "KbTTILGgkd7b",
    "outputId": "ddc651d0-f78a-4e25-a141-12aeb7952326"
   },
   "outputs": [
    {
     "data": {
      "text/plain": [
       "1194040.4040404041"
      ]
     },
     "execution_count": 20,
     "metadata": {},
     "output_type": "execute_result"
    }
   ],
   "source": [
    "# Average cost of the EV\n",
    "data.EV_Price.mean()\n"
   ]
  },
  {
   "cell_type": "code",
   "execution_count": 21,
   "metadata": {
    "colab": {
     "base_uri": "https://localhost:8080/"
    },
    "id": "qd5Uzm5xRvvx",
    "outputId": "ef34eaa4-5217-4d23-c179-dd81724a12ce"
   },
   "outputs": [
    {
     "data": {
      "text/plain": [
       "1021267.6056338028"
      ]
     },
     "execution_count": 21,
     "metadata": {},
     "output_type": "execute_result"
    }
   ],
   "source": [
    "# Average cost of a car in segment 1 \n",
    "data.EV_Price[data.Cluster==0].mean()"
   ]
  },
  {
   "cell_type": "code",
   "execution_count": 22,
   "metadata": {
    "colab": {
     "base_uri": "https://localhost:8080/"
    },
    "id": "jbYKSL6rqR_v",
    "outputId": "3af49c92-13d1-4b5e-9f65-81e2220d822a"
   },
   "outputs": [
    {
     "data": {
      "text/plain": [
       "3000000"
      ]
     },
     "execution_count": 22,
     "metadata": {},
     "output_type": "execute_result"
    }
   ],
   "source": [
    "data['EV_Price'][data.Cluster==1].max()"
   ]
  },
  {
   "cell_type": "code",
   "execution_count": 23,
   "metadata": {
    "colab": {
     "base_uri": "https://localhost:8080/"
    },
    "id": "S-XpWzANT9eA",
    "outputId": "c3f64482-ad48-410f-bb22-e7584c69cbe5"
   },
   "outputs": [
    {
     "data": {
      "text/plain": [
       "1632142.857142857"
      ]
     },
     "execution_count": 23,
     "metadata": {},
     "output_type": "execute_result"
    }
   ],
   "source": [
    "# Average cost of a car in segment 1 \n",
    "data.EV_Price[data.Cluster==1].mean()"
   ]
  },
  {
   "cell_type": "code",
   "execution_count": 24,
   "metadata": {
    "colab": {
     "base_uri": "https://localhost:8080/"
    },
    "id": "gi2-F9_xbFh8",
    "outputId": "da121b66-3638-4685-9414-99de6d8a5a5c"
   },
   "outputs": [
    {
     "data": {
      "text/plain": [
       "0    71.717172\n",
       "1    28.282828\n",
       "Name: Cluster, dtype: float64"
      ]
     },
     "execution_count": 24,
     "metadata": {},
     "output_type": "execute_result"
    }
   ],
   "source": [
    "data['Cluster'].value_counts(normalize=True) * 100"
   ]
  },
  {
   "cell_type": "code",
   "execution_count": 25,
   "metadata": {
    "id": "wzIvnVZ9aQHI"
   },
   "outputs": [],
   "source": [
    "# Segregrating each cluster\n",
    "\n",
    "Cluster_0 = data[data.Cluster==0]\n",
    "Cluster_1 = data[data.Cluster==1]"
   ]
  },
  {
   "cell_type": "code",
   "execution_count": 26,
   "metadata": {
    "colab": {
     "base_uri": "https://localhost:8080/"
    },
    "id": "KeXKJD-MPtrC",
    "outputId": "0818deea-654d-42e5-c181-ff5462aee636"
   },
   "outputs": [
    {
     "data": {
      "text/plain": [
       "0    71\n",
       "1    28\n",
       "Name: Cluster, dtype: int64"
      ]
     },
     "execution_count": 26,
     "metadata": {},
     "output_type": "execute_result"
    }
   ],
   "source": [
    "data['Cluster'].value_counts()"
   ]
  },
  {
   "cell_type": "code",
   "execution_count": 27,
   "metadata": {
    "colab": {
     "base_uri": "https://localhost:8080/",
     "height": 290
    },
    "id": "ahEBnNi_aQMS",
    "outputId": "4a56a51b-6979-4ef7-f342-f650da796d46"
   },
   "outputs": [
    {
     "data": {
      "image/png": "[encoded data removed]",
      "text/plain": [
       "<Figure size 432x288 with 1 Axes>"
      ]
     },
     "metadata": {
      "needs_background": "light"
     },
     "output_type": "display_data"
    }
   ],
   "source": [
    "# plotting the effct of salary and ev price on cluster data\n",
    "\n",
    "plt.scatter(Cluster_0.EV_Price, Cluster_0['Total Salary'],color='red', marker = 'x', label = 'Cluster 1')\n",
    "plt.scatter(Cluster_1.EV_Price, Cluster_1['Total Salary'],color='green', label = 'Cluster 2')\n",
    "plt.legend(loc=\"upper left\")\n",
    "\n",
    "plt.xlabel('EV Price')\n",
    "plt.ylabel('Total salary')\n",
    "plt.show()\n",
    "\n",
    "# there is a clear difference in segments when comparing salary and the price of EV purchased"
   ]
  },
  {
   "cell_type": "code",
   "execution_count": 28,
   "metadata": {
    "colab": {
     "base_uri": "https://localhost:8080/",
     "height": 279
    },
    "id": "ep-9rP-97C0W",
    "outputId": "4fa37671-d2c0-4132-a471-84ab8556895e"
   },
   "outputs": [
    {
     "data": {
      "image/png": "[encoded data removed]",
      "text/plain": [
       "<Figure size 432x288 with 1 Axes>"
      ]
     },
     "metadata": {
      "needs_background": "light"
     },
     "output_type": "display_data"
    }
   ],
   "source": [
    "plt.scatter(Cluster_0.EV_Price, Cluster_0['Age'],color='red', marker = 'x', label = 'Cluster 1')\n",
    "plt.scatter(Cluster_1.EV_Price, Cluster_1['Age'],color='green', label = 'Cluster 2')\n",
    "plt.legend(loc = \"upper left\")\n",
    "\n",
    "plt.xlabel('EV Price')\n",
    "plt.ylabel('Age')\n",
    "plt.show()"
   ]
  }
 ],
 "metadata": {
  "colab": {
   "collapsed_sections": [],
   "provenance": []
  },
  "kernelspec": {
   "display_name": "Python 3 (ipykernel)",
   "language": "python",
   "name": "python3"
  },
  "language_info": {
   "codemirror_mode": {
    "name": "ipython",
    "version": 3
   },
   "file_extension": ".py",
   "mimetype": "text/x-python",
   "name": "python",
   "nbconvert_exporter": "python",
   "pygments_lexer": "ipython3",
   "version": "3.9.7"
  }
 },
 "nbformat": 4,
 "nbformat_minor": 1
}

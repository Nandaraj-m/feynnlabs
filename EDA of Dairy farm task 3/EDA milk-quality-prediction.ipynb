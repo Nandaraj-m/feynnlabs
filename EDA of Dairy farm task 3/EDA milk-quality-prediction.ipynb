{
 "cells": [
  {
   "cell_type": "markdown",
   "id": "015d44ef",
   "metadata": {
    "_cell_guid": "b1076dfc-b9ad-4769-8c92-a6c4dae69d19",
    "_uuid": "8f2839f25d086af736a60e9eeb907d3b93b6e0e5",
    "execution": {
     "iopub.execute_input": "2022-10-11T18:43:53.505134Z",
     "iopub.status.busy": "2022-10-11T18:43:53.504247Z",
     "iopub.status.idle": "2022-10-11T18:43:54.797843Z",
     "shell.execute_reply": "2022-10-11T18:43:54.796346Z"
    },
    "papermill": {
     "duration": 1.309083,
     "end_time": "2022-10-11T18:43:54.800982",
     "exception": false,
     "start_time": "2022-10-11T18:43:53.491899",
     "status": "completed"
    },
    "tags": []
   },
   "source": [
    "## EDA of MILK QUALITY DATASET"
   ]
  },
  {
   "cell_type": "code",
   "execution_count": 52,
   "id": "fb0132df",
   "metadata": {},
   "outputs": [],
   "source": [
    "import numpy as np \n",
    "import pandas as pd\n",
    "import seaborn as sns \n",
    "import matplotlib.pyplot as plt\n",
    "from sklearn.linear_model import LogisticRegression"
   ]
  },
  {
   "cell_type": "markdown",
   "id": "32a29e5e",
   "metadata": {
    "papermill": {
     "duration": 0.006785,
     "end_time": "2022-10-11T18:43:54.814702",
     "exception": false,
     "start_time": "2022-10-11T18:43:54.807917",
     "status": "completed"
    },
    "tags": []
   },
   "source": [
    "### **Importing Data and EDA**"
   ]
  },
  {
   "cell_type": "code",
   "execution_count": 53,
   "id": "dff7d1f5",
   "metadata": {
    "execution": {
     "iopub.execute_input": "2022-10-11T18:43:54.830914Z",
     "iopub.status.busy": "2022-10-11T18:43:54.830419Z",
     "iopub.status.idle": "2022-10-11T18:43:54.849241Z",
     "shell.execute_reply": "2022-10-11T18:43:54.848014Z"
    },
    "papermill": {
     "duration": 0.029947,
     "end_time": "2022-10-11T18:43:54.852109",
     "exception": false,
     "start_time": "2022-10-11T18:43:54.822162",
     "status": "completed"
    },
    "tags": []
   },
   "outputs": [],
   "source": [
    "df = pd.read_csv(\"milknew.csv\")"
   ]
  },
  {
   "cell_type": "code",
   "execution_count": 54,
   "id": "483bf78b",
   "metadata": {
    "execution": {
     "iopub.execute_input": "2022-10-11T18:43:54.868487Z",
     "iopub.status.busy": "2022-10-11T18:43:54.867254Z",
     "iopub.status.idle": "2022-10-11T18:43:54.893156Z",
     "shell.execute_reply": "2022-10-11T18:43:54.891783Z"
    },
    "papermill": {
     "duration": 0.037217,
     "end_time": "2022-10-11T18:43:54.896247",
     "exception": false,
     "start_time": "2022-10-11T18:43:54.859030",
     "status": "completed"
    },
    "tags": []
   },
   "outputs": [
    {
     "data": {
      "text/html": [
       "<div>\n",
       "<style scoped>\n",
       "    .dataframe tbody tr th:only-of-type {\n",
       "        vertical-align: middle;\n",
       "    }\n",
       "\n",
       "    .dataframe tbody tr th {\n",
       "        vertical-align: top;\n",
       "    }\n",
       "\n",
       "    .dataframe thead th {\n",
       "        text-align: right;\n",
       "    }\n",
       "</style>\n",
       "<table border=\"1\" class=\"dataframe\">\n",
       "  <thead>\n",
       "    <tr style=\"text-align: right;\">\n",
       "      <th></th>\n",
       "      <th>pH</th>\n",
       "      <th>Temprature</th>\n",
       "      <th>Taste</th>\n",
       "      <th>Odor</th>\n",
       "      <th>Fat</th>\n",
       "      <th>Turbidity</th>\n",
       "      <th>Colour</th>\n",
       "      <th>Grade</th>\n",
       "    </tr>\n",
       "  </thead>\n",
       "  <tbody>\n",
       "    <tr>\n",
       "      <th>0</th>\n",
       "      <td>6.6</td>\n",
       "      <td>35</td>\n",
       "      <td>1</td>\n",
       "      <td>0</td>\n",
       "      <td>1</td>\n",
       "      <td>0</td>\n",
       "      <td>254</td>\n",
       "      <td>high</td>\n",
       "    </tr>\n",
       "    <tr>\n",
       "      <th>1</th>\n",
       "      <td>6.6</td>\n",
       "      <td>36</td>\n",
       "      <td>0</td>\n",
       "      <td>1</td>\n",
       "      <td>0</td>\n",
       "      <td>1</td>\n",
       "      <td>253</td>\n",
       "      <td>high</td>\n",
       "    </tr>\n",
       "    <tr>\n",
       "      <th>2</th>\n",
       "      <td>8.5</td>\n",
       "      <td>70</td>\n",
       "      <td>1</td>\n",
       "      <td>1</td>\n",
       "      <td>1</td>\n",
       "      <td>1</td>\n",
       "      <td>246</td>\n",
       "      <td>low</td>\n",
       "    </tr>\n",
       "    <tr>\n",
       "      <th>3</th>\n",
       "      <td>9.5</td>\n",
       "      <td>34</td>\n",
       "      <td>1</td>\n",
       "      <td>1</td>\n",
       "      <td>0</td>\n",
       "      <td>1</td>\n",
       "      <td>255</td>\n",
       "      <td>low</td>\n",
       "    </tr>\n",
       "    <tr>\n",
       "      <th>4</th>\n",
       "      <td>6.6</td>\n",
       "      <td>37</td>\n",
       "      <td>0</td>\n",
       "      <td>0</td>\n",
       "      <td>0</td>\n",
       "      <td>0</td>\n",
       "      <td>255</td>\n",
       "      <td>medium</td>\n",
       "    </tr>\n",
       "  </tbody>\n",
       "</table>\n",
       "</div>"
      ],
      "text/plain": [
       "    pH  Temprature  Taste  Odor  Fat   Turbidity  Colour   Grade\n",
       "0  6.6          35      1     0     1          0     254    high\n",
       "1  6.6          36      0     1     0          1     253    high\n",
       "2  8.5          70      1     1     1          1     246     low\n",
       "3  9.5          34      1     1     0          1     255     low\n",
       "4  6.6          37      0     0     0          0     255  medium"
      ]
     },
     "execution_count": 54,
     "metadata": {},
     "output_type": "execute_result"
    }
   ],
   "source": [
    "df.head()"
   ]
  },
  {
   "cell_type": "code",
   "execution_count": 55,
   "id": "0ace37a4",
   "metadata": {},
   "outputs": [
    {
     "name": "stdout",
     "output_type": "stream",
     "text": [
      "<class 'pandas.core.frame.DataFrame'>\n",
      "RangeIndex: 1059 entries, 0 to 1058\n",
      "Data columns (total 8 columns):\n",
      " #   Column      Non-Null Count  Dtype  \n",
      "---  ------      --------------  -----  \n",
      " 0   pH          1059 non-null   float64\n",
      " 1   Temprature  1059 non-null   int64  \n",
      " 2   Taste       1059 non-null   int64  \n",
      " 3   Odor        1059 non-null   int64  \n",
      " 4   Fat         1059 non-null   int64  \n",
      " 5   Turbidity   1059 non-null   int64  \n",
      " 6   Colour      1059 non-null   int64  \n",
      " 7   Grade       1059 non-null   object \n",
      "dtypes: float64(1), int64(6), object(1)\n",
      "memory usage: 66.3+ KB\n"
     ]
    }
   ],
   "source": [
    "df.info()"
   ]
  },
  {
   "cell_type": "code",
   "execution_count": 56,
   "id": "a5162502",
   "metadata": {
    "execution": {
     "iopub.execute_input": "2022-10-11T18:43:54.912474Z",
     "iopub.status.busy": "2022-10-11T18:43:54.911995Z",
     "iopub.status.idle": "2022-10-11T18:43:54.922887Z",
     "shell.execute_reply": "2022-10-11T18:43:54.921542Z"
    },
    "papermill": {
     "duration": 0.022083,
     "end_time": "2022-10-11T18:43:54.925503",
     "exception": false,
     "start_time": "2022-10-11T18:43:54.903420",
     "status": "completed"
    },
    "tags": []
   },
   "outputs": [
    {
     "data": {
      "text/plain": [
       "pH            0\n",
       "Temprature    0\n",
       "Taste         0\n",
       "Odor          0\n",
       "Fat           0\n",
       "Turbidity     0\n",
       "Colour        0\n",
       "Grade         0\n",
       "dtype: int64"
      ]
     },
     "execution_count": 56,
     "metadata": {},
     "output_type": "execute_result"
    }
   ],
   "source": [
    "df.isnull().sum()"
   ]
  },
  {
   "cell_type": "code",
   "execution_count": 57,
   "id": "353ce793",
   "metadata": {
    "execution": {
     "iopub.execute_input": "2022-10-11T18:43:54.942771Z",
     "iopub.status.busy": "2022-10-11T18:43:54.942011Z",
     "iopub.status.idle": "2022-10-11T18:43:54.950552Z",
     "shell.execute_reply": "2022-10-11T18:43:54.949263Z"
    },
    "papermill": {
     "duration": 0.019884,
     "end_time": "2022-10-11T18:43:54.953253",
     "exception": false,
     "start_time": "2022-10-11T18:43:54.933369",
     "status": "completed"
    },
    "tags": []
   },
   "outputs": [
    {
     "data": {
      "text/plain": [
       "(1059, 8)"
      ]
     },
     "execution_count": 57,
     "metadata": {},
     "output_type": "execute_result"
    }
   ],
   "source": [
    "df.shape"
   ]
  },
  {
   "cell_type": "code",
   "execution_count": 58,
   "id": "ac86bcb9",
   "metadata": {
    "execution": {
     "iopub.execute_input": "2022-10-11T18:43:54.970598Z",
     "iopub.status.busy": "2022-10-11T18:43:54.969740Z",
     "iopub.status.idle": "2022-10-11T18:43:55.031744Z",
     "shell.execute_reply": "2022-10-11T18:43:55.030439Z"
    },
    "papermill": {
     "duration": 0.073397,
     "end_time": "2022-10-11T18:43:55.034483",
     "exception": false,
     "start_time": "2022-10-11T18:43:54.961086",
     "status": "completed"
    },
    "tags": []
   },
   "outputs": [
    {
     "data": {
      "text/html": [
       "<div>\n",
       "<style scoped>\n",
       "    .dataframe tbody tr th:only-of-type {\n",
       "        vertical-align: middle;\n",
       "    }\n",
       "\n",
       "    .dataframe tbody tr th {\n",
       "        vertical-align: top;\n",
       "    }\n",
       "\n",
       "    .dataframe thead th {\n",
       "        text-align: right;\n",
       "    }\n",
       "</style>\n",
       "<table border=\"1\" class=\"dataframe\">\n",
       "  <thead>\n",
       "    <tr style=\"text-align: right;\">\n",
       "      <th></th>\n",
       "      <th>count</th>\n",
       "      <th>mean</th>\n",
       "      <th>std</th>\n",
       "      <th>min</th>\n",
       "      <th>25%</th>\n",
       "      <th>50%</th>\n",
       "      <th>75%</th>\n",
       "      <th>max</th>\n",
       "    </tr>\n",
       "  </thead>\n",
       "  <tbody>\n",
       "    <tr>\n",
       "      <th>pH</th>\n",
       "      <td>1059.0</td>\n",
       "      <td>6.630123</td>\n",
       "      <td>1.399679</td>\n",
       "      <td>3.0</td>\n",
       "      <td>6.5</td>\n",
       "      <td>6.7</td>\n",
       "      <td>6.8</td>\n",
       "      <td>9.5</td>\n",
       "    </tr>\n",
       "    <tr>\n",
       "      <th>Temprature</th>\n",
       "      <td>1059.0</td>\n",
       "      <td>44.226629</td>\n",
       "      <td>10.098364</td>\n",
       "      <td>34.0</td>\n",
       "      <td>38.0</td>\n",
       "      <td>41.0</td>\n",
       "      <td>45.0</td>\n",
       "      <td>90.0</td>\n",
       "    </tr>\n",
       "    <tr>\n",
       "      <th>Taste</th>\n",
       "      <td>1059.0</td>\n",
       "      <td>0.546742</td>\n",
       "      <td>0.498046</td>\n",
       "      <td>0.0</td>\n",
       "      <td>0.0</td>\n",
       "      <td>1.0</td>\n",
       "      <td>1.0</td>\n",
       "      <td>1.0</td>\n",
       "    </tr>\n",
       "    <tr>\n",
       "      <th>Odor</th>\n",
       "      <td>1059.0</td>\n",
       "      <td>0.432483</td>\n",
       "      <td>0.495655</td>\n",
       "      <td>0.0</td>\n",
       "      <td>0.0</td>\n",
       "      <td>0.0</td>\n",
       "      <td>1.0</td>\n",
       "      <td>1.0</td>\n",
       "    </tr>\n",
       "    <tr>\n",
       "      <th>Fat</th>\n",
       "      <td>1059.0</td>\n",
       "      <td>0.671388</td>\n",
       "      <td>0.469930</td>\n",
       "      <td>0.0</td>\n",
       "      <td>0.0</td>\n",
       "      <td>1.0</td>\n",
       "      <td>1.0</td>\n",
       "      <td>1.0</td>\n",
       "    </tr>\n",
       "    <tr>\n",
       "      <th>Turbidity</th>\n",
       "      <td>1059.0</td>\n",
       "      <td>0.491029</td>\n",
       "      <td>0.500156</td>\n",
       "      <td>0.0</td>\n",
       "      <td>0.0</td>\n",
       "      <td>0.0</td>\n",
       "      <td>1.0</td>\n",
       "      <td>1.0</td>\n",
       "    </tr>\n",
       "    <tr>\n",
       "      <th>Colour</th>\n",
       "      <td>1059.0</td>\n",
       "      <td>251.840415</td>\n",
       "      <td>4.307424</td>\n",
       "      <td>240.0</td>\n",
       "      <td>250.0</td>\n",
       "      <td>255.0</td>\n",
       "      <td>255.0</td>\n",
       "      <td>255.0</td>\n",
       "    </tr>\n",
       "  </tbody>\n",
       "</table>\n",
       "</div>"
      ],
      "text/plain": [
       "             count        mean        std    min    25%    50%    75%    max\n",
       "pH          1059.0    6.630123   1.399679    3.0    6.5    6.7    6.8    9.5\n",
       "Temprature  1059.0   44.226629  10.098364   34.0   38.0   41.0   45.0   90.0\n",
       "Taste       1059.0    0.546742   0.498046    0.0    0.0    1.0    1.0    1.0\n",
       "Odor        1059.0    0.432483   0.495655    0.0    0.0    0.0    1.0    1.0\n",
       "Fat         1059.0    0.671388   0.469930    0.0    0.0    1.0    1.0    1.0\n",
       "Turbidity   1059.0    0.491029   0.500156    0.0    0.0    0.0    1.0    1.0\n",
       "Colour      1059.0  251.840415   4.307424  240.0  250.0  255.0  255.0  255.0"
      ]
     },
     "execution_count": 58,
     "metadata": {},
     "output_type": "execute_result"
    }
   ],
   "source": [
    "df.describe().T"
   ]
  },
  {
   "cell_type": "code",
   "execution_count": 59,
   "id": "17fe59e7",
   "metadata": {
    "execution": {
     "iopub.execute_input": "2022-10-11T18:43:55.054700Z",
     "iopub.status.busy": "2022-10-11T18:43:55.053914Z",
     "iopub.status.idle": "2022-10-11T18:43:55.343756Z",
     "shell.execute_reply": "2022-10-11T18:43:55.342349Z"
    },
    "papermill": {
     "duration": 0.302928,
     "end_time": "2022-10-11T18:43:55.346315",
     "exception": false,
     "start_time": "2022-10-11T18:43:55.043387",
     "status": "completed"
    },
    "tags": []
   },
   "outputs": [
    {
     "data": {
      "text/plain": [
       "<AxesSubplot:>"
      ]
     },
     "execution_count": 59,
     "metadata": {},
     "output_type": "execute_result"
    },
    {
     "data": {
      "image/png": "[encoded data removed]",
      "text/plain": [
       "<Figure size 432x288 with 1 Axes>"
      ]
     },
     "metadata": {},
     "output_type": "display_data"
    }
   ],
   "source": [
    "df.Temprature.hist()"
   ]
  },
  {
   "cell_type": "code",
   "execution_count": 60,
   "id": "552bf257",
   "metadata": {
    "execution": {
     "iopub.execute_input": "2022-10-11T18:43:55.365030Z",
     "iopub.status.busy": "2022-10-11T18:43:55.363826Z",
     "iopub.status.idle": "2022-10-11T18:43:55.603723Z",
     "shell.execute_reply": "2022-10-11T18:43:55.601963Z"
    },
    "papermill": {
     "duration": 0.252962,
     "end_time": "2022-10-11T18:43:55.607130",
     "exception": false,
     "start_time": "2022-10-11T18:43:55.354168",
     "status": "completed"
    },
    "tags": []
   },
   "outputs": [
    {
     "data": {
      "text/plain": [
       "<AxesSubplot:>"
      ]
     },
     "execution_count": 60,
     "metadata": {},
     "output_type": "execute_result"
    },
    {
     "data": {
      "image/png": "[encoded data removed]",
      "text/plain": [
       "<Figure size 432x288 with 1 Axes>"
      ]
     },
     "metadata": {},
     "output_type": "display_data"
    }
   ],
   "source": [
    "df.pH.hist()"
   ]
  },
  {
   "cell_type": "code",
   "execution_count": 61,
   "id": "eee3a539",
   "metadata": {
    "execution": {
     "iopub.execute_input": "2022-10-11T18:43:55.625696Z",
     "iopub.status.busy": "2022-10-11T18:43:55.625203Z",
     "iopub.status.idle": "2022-10-11T18:43:55.638105Z",
     "shell.execute_reply": "2022-10-11T18:43:55.636798Z"
    },
    "papermill": {
     "duration": 0.025665,
     "end_time": "2022-10-11T18:43:55.641072",
     "exception": false,
     "start_time": "2022-10-11T18:43:55.615407",
     "status": "completed"
    },
    "tags": []
   },
   "outputs": [
    {
     "data": {
      "text/plain": [
       "low       429\n",
       "medium    374\n",
       "high      256\n",
       "Name: Grade, dtype: int64"
      ]
     },
     "execution_count": 61,
     "metadata": {},
     "output_type": "execute_result"
    }
   ],
   "source": [
    "df.Grade.value_counts()"
   ]
  },
  {
   "cell_type": "code",
   "execution_count": 62,
   "id": "99bb69d0",
   "metadata": {},
   "outputs": [
    {
     "data": {
      "image/png": "[encoded data removed]",
      "text/plain": [
       "<Figure size 576x576 with 1 Axes>"
      ]
     },
     "metadata": {},
     "output_type": "display_data"
    }
   ],
   "source": [
    "plt.figure(figsize=(8,8))\n",
    "palette_color = sns.color_palette('pastel')\n",
    "explode = [0.1, 0.1, 0.1]\n",
    "df.groupby('Grade')['Grade'].count().plot.pie(colors=palette_color,explode=explode, autopct=\"%1.1f%%\");"
   ]
  },
  {
   "cell_type": "code",
   "execution_count": 63,
   "id": "e1a2ccc8",
   "metadata": {
    "execution": {
     "iopub.execute_input": "2022-10-11T18:43:55.844191Z",
     "iopub.status.busy": "2022-10-11T18:43:55.843148Z",
     "iopub.status.idle": "2022-10-11T18:43:56.420161Z",
     "shell.execute_reply": "2022-10-11T18:43:56.418837Z"
    },
    "papermill": {
     "duration": 0.589451,
     "end_time": "2022-10-11T18:43:56.422939",
     "exception": false,
     "start_time": "2022-10-11T18:43:55.833488",
     "status": "completed"
    },
    "tags": []
   },
   "outputs": [
    {
     "data": {
      "text/plain": [
       "<AxesSubplot:>"
      ]
     },
     "execution_count": 63,
     "metadata": {},
     "output_type": "execute_result"
    },
    {
     "data": {
      "image/png": "[encoded data removed]",
      "text/plain": [
       "<Figure size 432x288 with 2 Axes>"
      ]
     },
     "metadata": {},
     "output_type": "display_data"
    }
   ],
   "source": [
    "sns.heatmap(df.corr(),annot=True)"
   ]
  },
  {
   "cell_type": "markdown",
   "id": "868733e0",
   "metadata": {
    "papermill": {
     "duration": 0.008897,
     "end_time": "2022-10-11T18:43:56.442927",
     "exception": false,
     "start_time": "2022-10-11T18:43:56.434030",
     "status": "completed"
    },
    "tags": []
   },
   "source": [
    "### **Feature engineering**"
   ]
  },
  {
   "cell_type": "code",
   "execution_count": 64,
   "id": "1848ec40",
   "metadata": {
    "execution": {
     "iopub.execute_input": "2022-10-11T18:43:56.463099Z",
     "iopub.status.busy": "2022-10-11T18:43:56.462624Z",
     "iopub.status.idle": "2022-10-11T18:43:56.631383Z",
     "shell.execute_reply": "2022-10-11T18:43:56.629890Z"
    },
    "papermill": {
     "duration": 0.182549,
     "end_time": "2022-10-11T18:43:56.634618",
     "exception": false,
     "start_time": "2022-10-11T18:43:56.452069",
     "status": "completed"
    },
    "tags": []
   },
   "outputs": [],
   "source": [
    "from sklearn import preprocessing"
   ]
  },
  {
   "cell_type": "code",
   "execution_count": 65,
   "id": "4df7c11b",
   "metadata": {
    "execution": {
     "iopub.execute_input": "2022-10-11T18:43:56.655242Z",
     "iopub.status.busy": "2022-10-11T18:43:56.654769Z",
     "iopub.status.idle": "2022-10-11T18:43:56.661011Z",
     "shell.execute_reply": "2022-10-11T18:43:56.659602Z"
    },
    "papermill": {
     "duration": 0.019636,
     "end_time": "2022-10-11T18:43:56.663427",
     "exception": false,
     "start_time": "2022-10-11T18:43:56.643791",
     "status": "completed"
    },
    "tags": []
   },
   "outputs": [],
   "source": [
    "label_encoder = preprocessing.LabelEncoder()\n"
   ]
  },
  {
   "cell_type": "code",
   "execution_count": 66,
   "id": "27d973ad",
   "metadata": {
    "execution": {
     "iopub.execute_input": "2022-10-11T18:43:56.683847Z",
     "iopub.status.busy": "2022-10-11T18:43:56.683345Z",
     "iopub.status.idle": "2022-10-11T18:43:56.689946Z",
     "shell.execute_reply": "2022-10-11T18:43:56.688721Z"
    },
    "papermill": {
     "duration": 0.020052,
     "end_time": "2022-10-11T18:43:56.692577",
     "exception": false,
     "start_time": "2022-10-11T18:43:56.672525",
     "status": "completed"
    },
    "tags": []
   },
   "outputs": [],
   "source": [
    "#transform Grade in numerical numbers using label encoder\n",
    "df['Grade']= label_encoder.fit_transform(df['Grade'])\n"
   ]
  },
  {
   "cell_type": "code",
   "execution_count": 67,
   "id": "87751649",
   "metadata": {
    "execution": {
     "iopub.execute_input": "2022-10-11T18:43:56.713855Z",
     "iopub.status.busy": "2022-10-11T18:43:56.713373Z",
     "iopub.status.idle": "2022-10-11T18:43:56.727088Z",
     "shell.execute_reply": "2022-10-11T18:43:56.725868Z"
    },
    "papermill": {
     "duration": 0.027525,
     "end_time": "2022-10-11T18:43:56.729554",
     "exception": false,
     "start_time": "2022-10-11T18:43:56.702029",
     "status": "completed"
    },
    "tags": []
   },
   "outputs": [
    {
     "data": {
      "text/html": [
       "<div>\n",
       "<style scoped>\n",
       "    .dataframe tbody tr th:only-of-type {\n",
       "        vertical-align: middle;\n",
       "    }\n",
       "\n",
       "    .dataframe tbody tr th {\n",
       "        vertical-align: top;\n",
       "    }\n",
       "\n",
       "    .dataframe thead th {\n",
       "        text-align: right;\n",
       "    }\n",
       "</style>\n",
       "<table border=\"1\" class=\"dataframe\">\n",
       "  <thead>\n",
       "    <tr style=\"text-align: right;\">\n",
       "      <th></th>\n",
       "      <th>pH</th>\n",
       "      <th>Temprature</th>\n",
       "      <th>Taste</th>\n",
       "      <th>Odor</th>\n",
       "      <th>Fat</th>\n",
       "      <th>Turbidity</th>\n",
       "      <th>Colour</th>\n",
       "      <th>Grade</th>\n",
       "    </tr>\n",
       "  </thead>\n",
       "  <tbody>\n",
       "    <tr>\n",
       "      <th>0</th>\n",
       "      <td>6.6</td>\n",
       "      <td>35</td>\n",
       "      <td>1</td>\n",
       "      <td>0</td>\n",
       "      <td>1</td>\n",
       "      <td>0</td>\n",
       "      <td>254</td>\n",
       "      <td>0</td>\n",
       "    </tr>\n",
       "    <tr>\n",
       "      <th>1</th>\n",
       "      <td>6.6</td>\n",
       "      <td>36</td>\n",
       "      <td>0</td>\n",
       "      <td>1</td>\n",
       "      <td>0</td>\n",
       "      <td>1</td>\n",
       "      <td>253</td>\n",
       "      <td>0</td>\n",
       "    </tr>\n",
       "    <tr>\n",
       "      <th>2</th>\n",
       "      <td>8.5</td>\n",
       "      <td>70</td>\n",
       "      <td>1</td>\n",
       "      <td>1</td>\n",
       "      <td>1</td>\n",
       "      <td>1</td>\n",
       "      <td>246</td>\n",
       "      <td>1</td>\n",
       "    </tr>\n",
       "    <tr>\n",
       "      <th>3</th>\n",
       "      <td>9.5</td>\n",
       "      <td>34</td>\n",
       "      <td>1</td>\n",
       "      <td>1</td>\n",
       "      <td>0</td>\n",
       "      <td>1</td>\n",
       "      <td>255</td>\n",
       "      <td>1</td>\n",
       "    </tr>\n",
       "    <tr>\n",
       "      <th>4</th>\n",
       "      <td>6.6</td>\n",
       "      <td>37</td>\n",
       "      <td>0</td>\n",
       "      <td>0</td>\n",
       "      <td>0</td>\n",
       "      <td>0</td>\n",
       "      <td>255</td>\n",
       "      <td>2</td>\n",
       "    </tr>\n",
       "  </tbody>\n",
       "</table>\n",
       "</div>"
      ],
      "text/plain": [
       "    pH  Temprature  Taste  Odor  Fat   Turbidity  Colour  Grade\n",
       "0  6.6          35      1     0     1          0     254      0\n",
       "1  6.6          36      0     1     0          1     253      0\n",
       "2  8.5          70      1     1     1          1     246      1\n",
       "3  9.5          34      1     1     0          1     255      1\n",
       "4  6.6          37      0     0     0          0     255      2"
      ]
     },
     "execution_count": 67,
     "metadata": {},
     "output_type": "execute_result"
    }
   ],
   "source": [
    "df.head()"
   ]
  },
  {
   "cell_type": "code",
   "execution_count": 68,
   "id": "a387524f",
   "metadata": {},
   "outputs": [],
   "source": [
    "all_features = ['pH', 'Temprature', 'Taste', 'Odor', 'Fat ', 'Turbidity', 'Colour']\n",
    "continuous_features = ['pH', 'Temprature', 'Colour']\n",
    "binary_features = ['Taste', 'Odor', 'Fat ', 'Turbidity']"
   ]
  },
  {
   "cell_type": "code",
   "execution_count": 69,
   "id": "60ffc731",
   "metadata": {},
   "outputs": [
    {
     "data": {
      "image/png": "[encoded data removed]",
      "text/plain": [
       "<Figure size 1080x360 with 3 Axes>"
      ]
     },
     "metadata": {},
     "output_type": "display_data"
    }
   ],
   "source": [
    "fig, ax = plt.subplots(1, 3, figsize=(15, 5))\n",
    "for var, subplot in zip(continuous_features, ax.flatten()):\n",
    "    sns.boxplot(x='Grade', y=var, data=df, ax=subplot, palette='Set3')"
   ]
  },
  {
   "cell_type": "code",
   "execution_count": 70,
   "id": "943868ea",
   "metadata": {},
   "outputs": [
    {
     "data": {
      "image/png": "[encoded data removed]",
      "text/plain": [
       "<Figure size 720x720 with 4 Axes>"
      ]
     },
     "metadata": {},
     "output_type": "display_data"
    }
   ],
   "source": [
    "fig, ax = plt.subplots(2, 2, figsize=(10, 10))\n",
    "for var, subplot in zip(binary_features, ax.flatten()):\n",
    "    sns.barplot(x='Grade', y= var, data=df, ax=subplot, palette='Set3')"
   ]
  },
  {
   "cell_type": "code",
   "execution_count": 71,
   "id": "55aa6df4",
   "metadata": {},
   "outputs": [
    {
     "data": {
      "text/html": [
       "<div>\n",
       "<style scoped>\n",
       "    .dataframe tbody tr th:only-of-type {\n",
       "        vertical-align: middle;\n",
       "    }\n",
       "\n",
       "    .dataframe tbody tr th {\n",
       "        vertical-align: top;\n",
       "    }\n",
       "\n",
       "    .dataframe thead th {\n",
       "        text-align: right;\n",
       "    }\n",
       "</style>\n",
       "<table border=\"1\" class=\"dataframe\">\n",
       "  <thead>\n",
       "    <tr style=\"text-align: right;\">\n",
       "      <th></th>\n",
       "      <th>pH</th>\n",
       "      <th>Temprature</th>\n",
       "      <th>Taste</th>\n",
       "      <th>Odor</th>\n",
       "      <th>Fat</th>\n",
       "      <th>Turbidity</th>\n",
       "      <th>Colour</th>\n",
       "    </tr>\n",
       "  </thead>\n",
       "  <tbody>\n",
       "    <tr>\n",
       "      <th>45</th>\n",
       "      <td>6.5</td>\n",
       "      <td>36</td>\n",
       "      <td>0</td>\n",
       "      <td>0</td>\n",
       "      <td>0</td>\n",
       "      <td>0</td>\n",
       "      <td>247</td>\n",
       "    </tr>\n",
       "    <tr>\n",
       "      <th>46</th>\n",
       "      <td>6.6</td>\n",
       "      <td>38</td>\n",
       "      <td>0</td>\n",
       "      <td>0</td>\n",
       "      <td>0</td>\n",
       "      <td>0</td>\n",
       "      <td>255</td>\n",
       "    </tr>\n",
       "    <tr>\n",
       "      <th>47</th>\n",
       "      <td>6.8</td>\n",
       "      <td>45</td>\n",
       "      <td>1</td>\n",
       "      <td>1</td>\n",
       "      <td>1</td>\n",
       "      <td>0</td>\n",
       "      <td>245</td>\n",
       "    </tr>\n",
       "  </tbody>\n",
       "</table>\n",
       "</div>"
      ],
      "text/plain": [
       "     pH  Temprature  Taste  Odor  Fat   Turbidity  Colour\n",
       "45  6.5          36      0     0     0          0     247\n",
       "46  6.6          38      0     0     0          0     255\n",
       "47  6.8          45      1     1     1          0     245"
      ]
     },
     "execution_count": 71,
     "metadata": {},
     "output_type": "execute_result"
    }
   ],
   "source": [
    "df_slice = df.iloc[45:48]\n",
    "df_brain_storm=df_slice.drop('Grade', axis = 1)\n",
    "df_brain_storm"
   ]
  }
 ],
 "metadata": {
  "kernelspec": {
   "display_name": "Python 3 (ipykernel)",
   "language": "python",
   "name": "python3"
  },
  "language_info": {
   "codemirror_mode": {
    "name": "ipython",
    "version": 3
   },
   "file_extension": ".py",
   "mimetype": "text/x-python",
   "name": "python",
   "nbconvert_exporter": "python",
   "pygments_lexer": "ipython3",
   "version": "3.9.7"
  },
  "papermill": {
   "default_parameters": {},
   "duration": 15.445964,
   "end_time": "2022-10-11T18:43:58.764769",
   "environment_variables": {},
   "exception": null,
   "input_path": "__notebook__.ipynb",
   "output_path": "__notebook__.ipynb",
   "parameters": {},
   "start_time": "2022-10-11T18:43:43.318805",
   "version": "2.3.4"
  }
 },
 "nbformat": 4,
 "nbformat_minor": 5
}
